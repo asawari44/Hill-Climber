{
 "cells": [
  {
   "cell_type": "code",
   "execution_count": 2,
   "metadata": {},
   "outputs": [
    {
     "ename": "ImportError",
     "evalue": "No module named 'pygame'",
     "output_type": "error",
     "traceback": [
      "\u001b[1;31m---------------------------------------------------------------------------\u001b[0m",
      "\u001b[1;31mImportError\u001b[0m                               Traceback (most recent call last)",
      "\u001b[1;32m<ipython-input-2-0f2027841add>\u001b[0m in \u001b[0;36m<module>\u001b[1;34m()\u001b[0m\n\u001b[1;32m----> 1\u001b[1;33m \u001b[1;32mimport\u001b[0m \u001b[0mpygame\u001b[0m\u001b[1;33m,\u001b[0m\u001b[0mrandom\u001b[0m\u001b[1;33m\u001b[0m\u001b[0m\n\u001b[0m\u001b[0;32m      2\u001b[0m \u001b[1;33m\u001b[0m\u001b[0m\n\u001b[0;32m      3\u001b[0m \u001b[0mdraw_on\u001b[0m \u001b[1;33m=\u001b[0m \u001b[1;32mFalse\u001b[0m\u001b[1;33m\u001b[0m\u001b[0m\n\u001b[0;32m      4\u001b[0m \u001b[0mlast_pos\u001b[0m \u001b[1;33m=\u001b[0m \u001b[1;33m(\u001b[0m\u001b[1;36m0\u001b[0m\u001b[1;33m,\u001b[0m \u001b[1;36m0\u001b[0m\u001b[1;33m)\u001b[0m\u001b[1;33m\u001b[0m\u001b[0m\n\u001b[0;32m      5\u001b[0m \u001b[0mcolor\u001b[0m \u001b[1;33m=\u001b[0m \u001b[1;33m(\u001b[0m\u001b[1;36m255\u001b[0m\u001b[1;33m,\u001b[0m \u001b[1;36m128\u001b[0m\u001b[1;33m,\u001b[0m \u001b[1;36m0\u001b[0m\u001b[1;33m)\u001b[0m\u001b[1;33m\u001b[0m\u001b[0m\n",
      "\u001b[1;31mImportError\u001b[0m: No module named 'pygame'"
     ]
    }
   ],
   "source": [
    "import pygame,random\n",
    "\n",
    "draw_on = False\n",
    "last_pos = (0, 0)\n",
    "color = (255, 128, 0)\n",
    "radius = 10\n",
    "\n",
    "def roundline(srf, color, start, end, radius=1):\n",
    "    dx = end[0]-start[0]\n",
    "    dy = end[1]-start[1]\n",
    "    distance = max(abs(dx), abs(dy))\n",
    "    for i in range(distance):\n",
    "        x = int( start[0]+float(i)/distance*dx)\n",
    "        y = int( start[1]+float(i)/distance*dy)\n",
    "        pygame.draw.circle(srf, color, (x, y), radius)\n",
    "\n",
    "try:\n",
    "    while True:\n",
    "        e = pygame.event.wait()\n",
    "        if e.type == pygame.QUIT:\n",
    "            raise StopIteration\n",
    "        if e.type == pygame.MOUSEBUTTONDOWN:\n",
    "            color = (random.randrange(256), random.randrange(256), random.randrange(256))\n",
    "            pygame.draw.circle(screen, color, e.pos, radius)\n",
    "            draw_on = True\n",
    "        if e.type == pygame.MOUSEBUTTONUP:\n",
    "            draw_on = False\n",
    "        if e.type == pygame.MOUSEMOTION:\n",
    "            if draw_on:\n",
    "                pygame.draw.circle(screen, color, e.pos, radius)\n",
    "                roundline(screen, color, e.pos, last_pos,  radius)\n",
    "            last_pos = e.pos\n",
    "        pygame.display.flip()\n",
    "\n",
    "except StopIteration:\n",
    "    pass\n",
    "\n",
    "pygame.quit()"
   ]
  }
 ],
 "metadata": {
  "kernelspec": {
   "display_name": "Python 3",
   "language": "python",
   "name": "python3"
  },
  "language_info": {
   "codemirror_mode": {
    "name": "ipython",
    "version": 3
   },
   "file_extension": ".py",
   "mimetype": "text/x-python",
   "name": "python",
   "nbconvert_exporter": "python",
   "pygments_lexer": "ipython3",
   "version": "3.5.3"
  }
 },
 "nbformat": 4,
 "nbformat_minor": 2
}
