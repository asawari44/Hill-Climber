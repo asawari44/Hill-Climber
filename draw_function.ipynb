{
 "cells": [
  {
   "cell_type": "code",
   "execution_count": 1,
   "metadata": {},
   "outputs": [
    {
     "ename": "ImportError",
     "evalue": "No module named 'Tkinter'",
     "output_type": "error",
     "traceback": [
      "\u001b[1;31m---------------------------------------------------------------------------\u001b[0m",
      "\u001b[1;31mImportError\u001b[0m                               Traceback (most recent call last)",
      "\u001b[1;32m<ipython-input-1-c1e1365662d4>\u001b[0m in \u001b[0;36m<module>\u001b[1;34m()\u001b[0m\n\u001b[1;32m----> 1\u001b[1;33m \u001b[1;32mfrom\u001b[0m \u001b[0mTkinter\u001b[0m \u001b[1;32mimport\u001b[0m \u001b[1;33m*\u001b[0m\u001b[1;33m\u001b[0m\u001b[0m\n\u001b[0m\u001b[0;32m      2\u001b[0m \u001b[1;33m\u001b[0m\u001b[0m\n\u001b[0;32m      3\u001b[0m \u001b[1;32mclass\u001b[0m \u001b[0mPaintBox\u001b[0m\u001b[1;33m(\u001b[0m \u001b[0mFrame\u001b[0m \u001b[1;33m)\u001b[0m\u001b[1;33m:\u001b[0m\u001b[1;33m\u001b[0m\u001b[0m\n\u001b[0;32m      4\u001b[0m     \u001b[1;32mdef\u001b[0m \u001b[0m__init__\u001b[0m\u001b[1;33m(\u001b[0m \u001b[0mself\u001b[0m \u001b[1;33m)\u001b[0m\u001b[1;33m:\u001b[0m\u001b[1;33m\u001b[0m\u001b[0m\n\u001b[0;32m      5\u001b[0m         \u001b[0mFrame\u001b[0m\u001b[1;33m.\u001b[0m\u001b[0m__init__\u001b[0m\u001b[1;33m(\u001b[0m \u001b[0mself\u001b[0m \u001b[1;33m)\u001b[0m\u001b[1;33m\u001b[0m\u001b[0m\n",
      "\u001b[1;31mImportError\u001b[0m: No module named 'Tkinter'"
     ]
    }
   ],
   "source": [
    "from Tkinter import *\n",
    "\n",
    "class PaintBox( Frame ):\n",
    "    def __init__( self ):\n",
    "        Frame.__init__( self )\n",
    "        self.pack( expand = YES, fill = BOTH )\n",
    "        self.master.title( \"A simple paint program\" )\n",
    "        self.master.geometry( \"300x150\" )\n",
    "\n",
    "        self.message = Label( self, text = \"Drag the mouse to draw\" )\n",
    "        self.message.pack( side = BOTTOM )\n",
    "      \n",
    "      # create Canvas component\n",
    "        self.myCanvas = Canvas( self )\n",
    "        self.myCanvas.pack( expand = YES, fill = BOTH )\n",
    "\n",
    "      # bind mouse dragging event to Canvas\n",
    "        self.myCanvas.bind( \"<B1-Motion>\", self.paint )\n",
    "\n",
    "    def paint( self, event ):\n",
    "        x1, y1 = ( event.x - 4 ), ( event.y - 4 )\n",
    "        x2, y2 = ( event.x + 4 ), ( event.y + 4 )\n",
    "        self.myCanvas.create_oval( x1, y1, x2, y2, fill = \"red\" )\n",
    "   \n",
    "    def main():\n",
    "        PaintBox().mainloop()\n",
    "\n",
    "if __name__ == \"__main__\":\n",
    "    main()"
   ]
  }
 ],
 "metadata": {
  "kernelspec": {
   "display_name": "Python 3",
   "language": "python",
   "name": "python3"
  },
  "language_info": {
   "codemirror_mode": {
    "name": "ipython",
    "version": 3
   },
   "file_extension": ".py",
   "mimetype": "text/x-python",
   "name": "python",
   "nbconvert_exporter": "python",
   "pygments_lexer": "ipython3",
   "version": "3.5.3"
  }
 },
 "nbformat": 4,
 "nbformat_minor": 2
}
