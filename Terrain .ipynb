{
 "cells": [
  {
   "cell_type": "code",
   "execution_count": 1,
   "metadata": {
    "collapsed": true
   },
   "outputs": [],
   "source": [
    "import numpy as np\n",
    "from terrain import *\n",
    "import matplotlib.pyplot as plt\n",
    "%matplotlib inline"
   ]
  },
  {
   "cell_type": "code",
   "execution_count": null,
   "metadata": {},
   "outputs": [],
   "source": [
    "\n",
    "a = np.random.randint(-3,3,1)*get_sine_terrain(100,sample = 1000,f = np.random.normal(1,2)/10)\n",
    "b = np.random.randint(-3,3,1)*get_sine_terrain(100,sample = 1000,f = np.random.normal(1,1)/10)\n",
    "c = np.random.randint(-3,3,1)*get_sine_terrain(100,sample = 1000,f = np.random.normal(1,2)/10)\n",
    "d = np.random.randint(-3,3,1)*get_sine_terrain(1000,sample = 1000,f = np.random.normal(1,2)/10)\n",
    "e = get_parabola()\n",
    "e = np.random.randint(-3,3,1)*(e - np.mean(e))/np.std(e)\n",
    "\n",
    "terrain = a + b + c + d + e"
   ]
  },
  {
   "cell_type": "code",
   "execution_count": null,
   "metadata": {},
   "outputs": [],
   "source": [
    "plt.scatter(range(1000),terrain)"
   ]
  },
  {
   "cell_type": "code",
   "execution_count": null,
   "metadata": {
    "collapsed": true
   },
   "outputs": [],
   "source": []
  },
  {
   "cell_type": "code",
   "execution_count": null,
   "metadata": {
    "collapsed": true
   },
   "outputs": [],
   "source": []
  }
 ],
 "metadata": {
  "kernelspec": {
   "display_name": "Python 3",
   "language": "python",
   "name": "python3"
  },
  "language_info": {
   "codemirror_mode": {
    "name": "ipython",
    "version": 3
   },
   "file_extension": ".py",
   "mimetype": "text/x-python",
   "name": "python",
   "nbconvert_exporter": "python",
   "pygments_lexer": "ipython3",
   "version": "3.5.3"
  }
 },
 "nbformat": 4,
 "nbformat_minor": 2
}
