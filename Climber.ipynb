{
 "cells": [
  {
   "cell_type": "code",
   "execution_count": 4,
   "metadata": {
    "collapsed": true
   },
   "outputs": [],
   "source": [
    "import numpy as np\n",
    "import matplotlib.pyplot as plt\n",
    "%matplotlib inline\n",
    "from terrain import *\n",
    "from functions import *"
   ]
  },
  {
   "cell_type": "code",
   "execution_count": 5,
   "metadata": {
    "collapsed": true
   },
   "outputs": [],
   "source": [
    "class Climber():\n",
    "    \n",
    "    def __init__(self,position_index,terrain):\n",
    "        self.n_input = 10\n",
    "        self.n_hidden = 5\n",
    "        self.n_output = 1\n",
    "        self.learning_rate = 1.5\n",
    "        \n",
    "        #Outside world\n",
    "        self.terrain = terrain\n",
    "        self.position_index = position_index\n",
    "        \n",
    "        \n",
    "        # inputs and expected outputs\n",
    "        self.old_input = self.terrain[0,self.position_index:self.position_index + self.n_input].reshape(self.n_input,1)\n",
    "        self.input = self.terrain[0,self.position_index:self.position_index + self.n_input].reshape(self.n_input,1)\n",
    "        self.output = None #Shape 1,1\n",
    "        self.y = None\n",
    "        \n",
    "        #Weights\n",
    "        self.W1 = None\n",
    "        self.b1 = None\n",
    "        self.W2 = None\n",
    "        self.b2 = None\n",
    "        \n",
    "        self.costs = []\n",
    "\n",
    "    def initialize_weights(self):\n",
    "        self.W1 = np.random.normal(0,1/np.sqrt(self.n_input),size=[self.n_hidden,self.n_input])#Shape 5,10\n",
    "        self.W2 = np.random.normal(0,1/np.sqrt(self.n_hidden),size=[self.n_output,self.n_hidden])#Shape 1,5\n",
    "        self.b1 = np.zeros((self.n_hidden,1))#Shape 5,1\n",
    "        self.b2 = np.zeros((self.n_output,1))#shape 1,1\n",
    "        \n",
    "    def feed_forward(self):\n",
    "       \n",
    "        z1 = np.dot(self.W1,self.input)+self.b1  #Shape 5,1\n",
    "        a1 = sigmoid(z1)  #Shape 5,1\n",
    "        z2 = np.dot(self.W2,a1)+self.b2  #Shape 1,1\n",
    "        a2 = sigmoid(z2)   #Shape 1,1\n",
    "        self.output = a2\n",
    "        \n",
    "        \n",
    "        values = {\"input\":self.input.copy(),\"z1\":z1,\"a1\":a1,\"z2\":z2,\"a2\":a2}\n",
    "        return values\n",
    "    \n",
    "    def calculate_cost(self):\n",
    "        \n",
    "        values = self.feed_forward()\n",
    "        self.move()\n",
    "        diff = np.mean(self.input) - np.mean(self.old_input)\n",
    "        print(\"Difference is :\",diff)\n",
    "        print(\"Mean of terrain is :\",np.mean(terrain))\n",
    "        self.y = self.cost_helper(diff,self.output) ##IMPORTANT\n",
    "        \n",
    "        c = (-np.dot(self.y,np.log(self.output).T)-np.dot(1-self.y,np.log(1-self.output).T))/1\n",
    "        print(\"Cost is :\",c)\n",
    "        self.costs.append(c)\n",
    "        \n",
    "        gradients = self.back_popagate(values)\n",
    "        self.gradient_descent(gradients)\n",
    "        \n",
    "        \n",
    "    def back_popagate(self,values):\n",
    "        m = 1\n",
    "        dz2 = values[\"a2\"]-self.y  #SHAPE 1,1\n",
    "        dW2 = np.dot(dz2,values[\"a1\"].T)/m #SHAPE 1,5\n",
    "        db2 = np.sum(dz2,axis=1,keepdims=True)/m\n",
    "\n",
    "        dz1 = np.multiply(np.dot(self.W2.T,dz2),sigmoid_prime(values[\"z1\"]))  #SHAPE 5,1\n",
    "        dW1 = np.dot(dz1,values[\"input\"].T)/m #SHAPE 5,10\n",
    "        db1 = np.sum(dz1,axis=1,keepdims=True)/m\n",
    "        \n",
    "        gradients = {\"dW2\":dW2,\"db2\":db2,\"dW1\":dW1,\"db1\":db1}\n",
    "        return gradients\n",
    "        \n",
    "     \n",
    "    def gradient_descent(self,gradients):\n",
    "        self.W2 = self.W2 - self.learning_rate*gradients[\"dW2\"]\n",
    "        self.W1 = self.W1 - self.learning_rate*gradients[\"dW1\"]\n",
    "        self.b2 = self.b2 - self.learning_rate*gradients[\"db2\"]\n",
    "        self.b1 = self.b1 -self.learning_rate*gradients[\"db1\"]\n",
    "        \n",
    "    def move(self):\n",
    "        X = None\n",
    "        if self.output.reshape(1,) > 0.5:\n",
    "            if self.position_index < terrain.shape[1] - 13:\n",
    "                #Move Right\n",
    "                self.position_index = self.position_index + 3\n",
    "                X = terrain[0,self.position_index:self.position_index + self.n_input]\n",
    "                \n",
    "            else :\n",
    "                print(\"Right edge reached\")\n",
    "        else :\n",
    "            if self.position_index<3:\n",
    "                print(\"Left edge reached\")\n",
    "            else :\n",
    "                #Move Left\n",
    "                self.position_index = self.position_index - 3\n",
    "                X = terrain[0,self.position_index:self.position_index + self.n_input]\n",
    "        \n",
    "        if X is not None:\n",
    "            self.old_input = self.input\n",
    "            self.input = X.reshape(self.n_input,1)\n",
    "            \n",
    "            \n",
    "    \n",
    "    def cost_helper(self,diff,number):\n",
    "        if diff > 0:\n",
    "            if number>0.5:\n",
    "                y = 1\n",
    "            else :\n",
    "                y = 0\n",
    "        else:\n",
    "            if number >0.5:\n",
    "                y = 0\n",
    "            else :\n",
    "                y = 1\n",
    "        return y\n",
    "    \n",
    "    def change_terrain(self,terrain):\n",
    "        self.terrain = terrain"
   ]
  },
  {
   "cell_type": "code",
   "execution_count": 6,
   "metadata": {
    "collapsed": true
   },
   "outputs": [],
   "source": [
    "#SCRIPTING"
   ]
  },
  {
   "cell_type": "code",
   "execution_count": 7,
   "metadata": {
    "collapsed": true
   },
   "outputs": [],
   "source": [
    "terrain = get_basic_terrain(100)\n",
    "climber = Climber(50,terrain)\n",
    "climber.initialize_weights()"
   ]
  },
  {
   "cell_type": "code",
   "execution_count": 103,
   "metadata": {},
   "outputs": [
    {
     "name": "stdout",
     "output_type": "stream",
     "text": [
      "Left edge reached\n",
      "Difference is : 5.70191411289\n",
      "Mean of terrain is : 49.0758234238\n",
      "Cost is : [[ 0.11185379]]\n",
      "[[ 0.10582502]]\n",
      "2\n"
     ]
    }
   ],
   "source": [
    "climber.calculate_cost()\n",
    "print(climber.output)\n",
    "print(climber.position_index)"
   ]
  },
  {
   "cell_type": "code",
   "execution_count": 93,
   "metadata": {
    "collapsed": true
   },
   "outputs": [],
   "source": [
    "terrain = get_sine_terrain(100)\n",
    "climber.change_terrain(terrain)"
   ]
  },
  {
   "cell_type": "code",
   "execution_count": 67,
   "metadata": {
    "collapsed": true
   },
   "outputs": [],
   "source": [
    "terrain = get_basic_terrain_descending(100)\n",
    "climber.change_terrain(terrain)\n",
    "#climber.position_index = 40"
   ]
  },
  {
   "cell_type": "code",
   "execution_count": 98,
   "metadata": {
    "collapsed": true
   },
   "outputs": [],
   "source": [
    "terrain = get_basic_terrain(100)\n",
    "climber.change_terrain(terrain)"
   ]
  },
  {
   "cell_type": "code",
   "execution_count": 44,
   "metadata": {},
   "outputs": [
    {
     "data": {
      "text/plain": [
       "<matplotlib.collections.PathCollection at 0x7f092b0>"
      ]
     },
     "execution_count": 44,
     "metadata": {},
     "output_type": "execute_result"
    },
    {
     "data": {
      "image/png": "[encoded data removed]",
      "text/plain": [
       "<matplotlib.figure.Figure at 0x7c819b0>"
      ]
     },
     "metadata": {},
     "output_type": "display_data"
    }
   ],
   "source": [
    "plt.scatter(range(100),get_basic_terrain())"
   ]
  },
  {
   "cell_type": "code",
   "execution_count": 12,
   "metadata": {},
   "outputs": [
    {
     "data": {
      "text/plain": [
       "<matplotlib.collections.PathCollection at 0x475c2e8>"
      ]
     },
     "execution_count": 12,
     "metadata": {},
     "output_type": "execute_result"
    },
    {
     "data": {
      "image/png": "[encoded data removed]",
      "text/plain": [
       "<matplotlib.figure.Figure at 0x7cbb2e8>"
      ]
     },
     "metadata": {},
     "output_type": "display_data"
    }
   ],
   "source": [
    "plt.scatter(range(100),get_sine_terrain())"
   ]
  },
  {
   "cell_type": "code",
   "execution_count": null,
   "metadata": {
    "collapsed": true
   },
   "outputs": [],
   "source": []
  }
 ],
 "metadata": {
  "kernelspec": {
   "display_name": "Python 3",
   "language": "python",
   "name": "python3"
  },
  "language_info": {
   "codemirror_mode": {
    "name": "ipython",
    "version": 3
   },
   "file_extension": ".py",
   "mimetype": "text/x-python",
   "name": "python",
   "nbconvert_exporter": "python",
   "pygments_lexer": "ipython3",
   "version": "3.5.3"
  }
 },
 "nbformat": 4,
 "nbformat_minor": 2
}
